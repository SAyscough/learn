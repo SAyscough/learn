{
 "cells": [
  {
   "cell_type": "markdown",
   "id": "3df752c5-dade-4ee0-a834-b75a51af559f",
   "metadata": {
    "tags": []
   },
   "source": [
    "# The \"slab model\""
   ]
  },
  {
   "cell_type": "code",
   "execution_count": null,
   "id": "55bff0d8-6d1b-494d-9049-874bbcd96b32",
   "metadata": {},
   "outputs": [],
   "source": []
  }
 ],
 "metadata": {
  "kernelspec": {
   "display_name": "Python 3 (ipykernel)",
   "language": "python",
   "name": "python3"
  },
  "language_info": {
   "codemirror_mode": {
    "name": "ipython",
    "version": 3
   },
   "file_extension": ".py",
   "mimetype": "text/x-python",
   "name": "python",
   "nbconvert_exporter": "python",
   "pygments_lexer": "ipython3",
   "version": "3.8.12"
  }
 },
 "nbformat": 4,
 "nbformat_minor": 5
}
