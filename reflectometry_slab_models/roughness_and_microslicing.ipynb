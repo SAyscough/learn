{
 "cells": [
  {
   "cell_type": "markdown",
   "id": "83f8f9ef-d873-4134-a519-de8a3f319cb0",
   "metadata": {},
   "source": [
    "# Roughness and microslicing"
   ]
  },
  {
   "cell_type": "code",
   "execution_count": null,
   "id": "0b583802-0dd9-47f4-beab-529df8c6c9fc",
   "metadata": {},
   "outputs": [],
   "source": []
  }
 ],
 "metadata": {
  "kernelspec": {
   "display_name": "Python 3 (ipykernel)",
   "language": "python",
   "name": "python3"
  },
  "language_info": {
   "codemirror_mode": {
    "name": "ipython",
    "version": 3
   },
   "file_extension": ".py",
   "mimetype": "text/x-python",
   "name": "python",
   "nbconvert_exporter": "python",
   "pygments_lexer": "ipython3",
   "version": "3.8.12"
  }
 },
 "nbformat": 4,
 "nbformat_minor": 5
}
