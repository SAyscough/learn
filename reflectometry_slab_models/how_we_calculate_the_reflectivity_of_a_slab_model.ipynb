{
 "cells": [
  {
   "cell_type": "markdown",
   "id": "8e55804e-1883-4dc4-8cf4-c22a94c018af",
   "metadata": {},
   "source": [
    "# How we calculate the reflectivity of a slab model\n",
    "\n",
    "The slab model models the propagation of the neutron wave through a series of layers using the Abelès matrix formalism for stratified media {cite}`abeles_sur_1948,parratt_surface_1954`. \n",
    "Here, we will look closely at the algorithm used in this formalism in order to calculate the model reflectometry data. \n",
    "\n",
    "We will implement this in Python as we go, as a series of functions that we can bring together at the end.\n",
    "This implementation is taken from the `refnx` package {cite}`nelson_refnx_2019`, and is reproduced under the BSD-3 License.\n",
    "Most reflectometry analysis packages implement a similar algorithm.\n",
    "First we will import the necessary Python packages.\n",
    "````{margin}\n",
    "```{note}\n",
    "Additionally, for each of the functions the shape of the input parameters and returned values have been included in the docstring, to aid understanding.\n",
    "```\n",
    "````"
   ]
  },
  {
   "cell_type": "code",
   "execution_count": 1,
   "id": "50368c6b-8471-4522-add6-d3e98a8034c4",
   "metadata": {},
   "outputs": [],
   "source": [
    "import numpy as np\n",
    "import matplotlib.pyplot as plt"
   ]
  },
  {
   "cell_type": "markdown",
   "id": "14e7fdd2-2e39-40e2-929f-893af2dae914",
   "metadata": {},
   "source": [
    "## Model algorithm\n",
    "\n",
    "This approach considers each $q$-value individually and constructs a series of matrices do describe each layer, $n$. \n",
    "The wavevector normal to the surface, $k(n)$, in each layer is found, \n",
    "\n",
    "$$ k_n(q) = \\sqrt{k_0(q)^2 - 4\\pi(\\beta_n - \\beta_0)},$$\n",
    "\n",
    "where, $k_0(q) = 0.5q$, and $\\beta_n$ and $\\beta_0$ are the scattering length densities in layer $n$ and the superphase, layer $0$. "
   ]
  },
  {
   "cell_type": "code",
   "execution_count": 2,
   "id": "5ec66207-7040-40b6-b590-56bda04f3cf6",
   "metadata": {},
   "outputs": [],
   "source": [
    "def normal_wavevectors(q: np.ndarray, beta: np.ndarray) -> np.ndarray:\n",
    "    \"\"\"\n",
    "    :param q: array of q-wavevectors, shape: (number_q)\n",
    "    :param beta: array of scattering length densities, shape: (number_layers)\n",
    "    :return: wavevectors normal to surface, shape: (number_q, number_layers)\n",
    "    \"\"\"\n",
    "    k0 = 0.5 * q[:, np.newaxis] \n",
    "    kn = np.sqrt(k0 ** 2 - 4.0 * np.pi * (beta - beta[0]))\n",
    "    return kn"
   ]
  },
  {
   "cell_type": "markdown",
   "id": "26b8c12b-8787-4a9e-8eef-248c586a5928",
   "metadata": {},
   "source": [
    "The $k_n(q)$ for each interface between two layers, a Frensel reflectance, $r_{n, n+1}(q)$, can be determined as,\n",
    "\n",
    "$$r_{n, n+1}(q) = \\frac{k_n(q) - k_{n+1}(q)}{k_n(q) + k_{n+1}(q)}. $$"
   ]
  },
  {
   "cell_type": "code",
   "execution_count": 3,
   "id": "033fa361-f949-46b1-b9e6-b67eac8aacb3",
   "metadata": {},
   "outputs": [],
   "source": [
    "def fresnel_reflectance(kn: np.ndarray) -> np.ndarray:\n",
    "    \"\"\"\n",
    "    :param kn: wavevectors normal to surface, shape: (number_q, number_layers)\n",
    "    :return: fresnel reflectance between layers, shape: (number_q, number_layers-1)\n",
    "    \"\"\"\n",
    "    return (kn[:, :-1] - kn[:, 1:]) / (kn[:, :-1] + kn[:, 1:])"
   ]
  },
  {
   "cell_type": "markdown",
   "id": "68b5fdbb-9123-4a20-9272-03ddafd061ae",
   "metadata": {},
   "source": [
    "Additionally, the phase factor, $\\phi_n(q)$, can be found as, \n",
    "\n",
    "$$ \\phi_n(q) = \\mathit{i} k_n(q) d_n, $$\n",
    "$$ \\phi_0(q) = 0. $$"
   ]
  },
  {
   "cell_type": "code",
   "execution_count": 4,
   "id": "4e138462-7203-4c15-9f2b-cb504c2aaf84",
   "metadata": {},
   "outputs": [],
   "source": [
    "def phase_factor(kn:np.ndarray, d: np.ndarray) -> np.ndarray:\n",
    "    \"\"\"\n",
    "    :param kn: wavevectors normal to surface, shape: (number_q, number_layers)\n",
    "    :param d: layer thicknesses, shape: (number_layers)\n",
    "    :return: phase factor, shape: (number_q, number_layers)\n",
    "    \"\"\"\n",
    "    phi_t = kn * d\n",
    "    phi_t[:, 0] = np.zeros(kn.shape[0])\n",
    "    return phi_t"
   ]
  },
  {
   "cell_type": "markdown",
   "id": "5ea8dc12-832d-48db-bfb3-f3a54afc5140",
   "metadata": {},
   "source": [
    "The Fresnel reflectance and phase factor can be brought together to give a characteristic matrix for the interface between each layer, $M_{n, n+1}$,\n",
    "\n",
    "$$M_{n, n+1}(q) = \n",
    "\\begin{bmatrix} \n",
    "\\exp \\phi_n(q) & r_{n, n+1}\\exp -\\phi_n(q) \\\\\n",
    "r_{n, n+1}\\exp \\phi_n(q) & \\exp -\\phi_n(q) \n",
    "\\end{bmatrix}.\n",
    "$$"
   ]
  },
  {
   "cell_type": "code",
   "execution_count": 5,
   "id": "47c5b7b2-71f1-4205-a692-f9c69e24b4e1",
   "metadata": {},
   "outputs": [],
   "source": [
    "def characteristic_matrices(r: np.ndarray, phi: np.ndarray) -> np.ndarray:\n",
    "    \"\"\"\n",
    "    :param r: Fresnel reflectances, shape: (number_q, number_layers-1)\n",
    "    :param phi: phase factors, shape: (number_q, number_layers-1)\n",
    "    :returns: characteristic matrices, shape: (2, 2, number_q, number_layers-1)\n",
    "    \"\"\"\n",
    "    M = np.ones((2, 2, *r.shape), dtype=complex)\n",
    "    M[0, 0, :, 1:] = np.exp(1j * phi[:, 1:-1])\n",
    "    M[1, 1, :, 1:] = np.exp(-1j * phi[:, 1:-1])\n",
    "    M[1, 0] = r * M[0, 0]\n",
    "    M[0, 1] = r * M[1, 1]\n",
    "    return M"
   ]
  },
  {
   "cell_type": "markdown",
   "id": "d218b4ee-21e1-41db-b253-3a5c6bc88379",
   "metadata": {},
   "source": [
    "The resultant matrix for each $q$-vector, $B(q)$, can then be found from the product sum of all the characteristic matrices, \n",
    "\n",
    "$$ B(q) = \\prod^{n_{\\mathrm{max}}-1}_{n=0} M_{n, n+1}(q). $$"
   ]
  },
  {
   "cell_type": "code",
   "execution_count": 6,
   "id": "e566678a-8f34-49e3-8bdd-36b2d25fbbb5",
   "metadata": {},
   "outputs": [],
   "source": [
    "def resultant_matrix(M: np.ndarray) -> np.ndarray:\n",
    "    \"\"\"\n",
    "    :param M: characteristic matrices, shape: (2, 2, number_q, number_layers-1)\n",
    "    :return: resultant matrix, shape: (2, 2, number_q)\n",
    "    \"\"\"\n",
    "    B = M[:, :, :, 0]\n",
    "    for i in range(1, M.shape[-1]):\n",
    "        p0 = B[0, 0] * M[0, 0, :, i] + B[1, 0] * M[0, 1, :, i]\n",
    "        p1 = B[0, 0] * M[1, 0, :, i] + B[1, 0] * M[1, 1, :, i]\n",
    "        B[0, 0] = p0\n",
    "        B[1, 0] = p1\n",
    "\n",
    "        p0 = B[0, 1] * M[0, 0, :, i] + B[1, 1] * M[0, 1, :, i]\n",
    "        p1 = B[0, 1] * M[1, 0, :, i] + B[1, 1] * M[1, 1, :, i]\n",
    "        B[0, 1] = p0\n",
    "        B[1, 1] = p1\n",
    "    return B"
   ]
  },
  {
   "cell_type": "markdown",
   "id": "1a4d07fd-72fe-48cb-baeb-879103c5f051",
   "metadata": {},
   "source": [
    "This product sum describes the reflectance and transmittance propagated through all of the interfaces. \n",
    "The overall reflectance and reflectivity is then calculated as, \n",
    "\n",
    "$$ r(q) = \\frac{B_{0, 1}(q)}{B_{0, 0}(q)} $$\n",
    "$$ R(q) = r(q) \\bar{r}(q),$$\n",
    "\n",
    "where, $\\bar{r}(q)$ is the complex conjugate of $r(q)$. "
   ]
  },
  {
   "cell_type": "code",
   "execution_count": 7,
   "id": "7537f967-8caf-4465-8d58-c8e8b04240ce",
   "metadata": {},
   "outputs": [],
   "source": [
    "def reflectivity(B: np.ndarray) -> np.ndarray:\n",
    "    \"\"\"\n",
    "    :param B: resultant matrix, shape: (2, 2, number_q)\n",
    "    :return: reflectivity, shape: (number_q)\n",
    "    \"\"\"\n",
    "    r = B[0, 1] / B[0, 0]\n",
    "    return np.real(r * np.conj(r))"
   ]
  },
  {
   "cell_type": "markdown",
   "id": "5e72df87-de42-4dac-9675-60ca9b90602f",
   "metadata": {},
   "source": [
    "This is all brought together in the function below. "
   ]
  },
  {
   "cell_type": "code",
   "execution_count": 8,
   "id": "34442667-641b-4263-9e21-f66247a03834",
   "metadata": {},
   "outputs": [],
   "source": [
    "def abeles(q: np.ndarray, beta: np.ndarray, d: np.ndarray) -> np.ndarray:\n",
    "    \"\"\"\n",
    "    :param q: array of q-wavevectors, shape: (number_q)\n",
    "    :param beta: array of scattering length densities, shape: (number_layers)\n",
    "    :param d: layer thicknesses, shape: (number_layers)\n",
    "    :returns: calculated reflectivity, shape: (number_q)\n",
    "    \"\"\"\n",
    "    kn = normal_wavevectors(q, beta)\n",
    "    phi = phase_factor(kn, d)\n",
    "    r = fresnel_reflectance(kn)\n",
    "    M = characteristic_matrices(r, phi)\n",
    "    B = resultant_matrix(M)\n",
    "    return reflectivity(B)"
   ]
  },
  {
   "cell_type": "markdown",
   "id": "90af1ffd-00aa-4e77-aca9-6bc11c042bff",
   "metadata": {},
   "source": [
    "Then, we can compare the result from the application of the Abelès matrix formalism for stratified media to that from the Fourier transform shown previously. "
   ]
  },
  {
   "cell_type": "code",
   "execution_count": 9,
   "id": "ee851173-ef5e-4c9f-a5a0-5ecfab55b1bd",
   "metadata": {},
   "outputs": [],
   "source": [
    "# Abeles method\n",
    "q = np.linspace(0.001, 0.2, 500)\n",
    "beta = np.array([0 + 0j, 4.186e-6 + 0j, 2.871e-6 + 0j])\n",
    "d = np.array([0, 200, 0])\n",
    "r_abeles = abeles(q, beta, d)\n",
    "\n",
    "# Fourier transform\n",
    "z = np.linspace(-20, 300, 1000)\n",
    "rho = np.zeros_like(z)\n",
    "rho[np.where((z > 0) & (z < 200))] = 4.186e-6\n",
    "rho[np.where(z > 200)] = 2.871e-6\n",
    "f = (np.diff(rho) * np.exp(\n",
    "    -1j * z[:-1] * q[:, np.newaxis])).sum(-1)\n",
    "r_fourier = 16 * np.pi ** 2 / (q ** 4) * np.square(np.abs(f))"
   ]
  },
  {
   "cell_type": "markdown",
   "id": "eb59a42e-a8e1-48fa-836b-8bc96451a1cb",
   "metadata": {},
   "source": [
    "The results are plotted below. "
   ]
  },
  {
   "cell_type": "code",
   "execution_count": 10,
   "id": "81d2f80c-8b5c-4e55-b650-f08b01de8ca0",
   "metadata": {},
   "outputs": [
    {
     "data": {
      "image/png": "[encoded data removed]",
      "text/plain": [
       "<Figure size 432x288 with 1 Axes>"
      ]
     },
     "metadata": {
      "needs_background": "light"
     },
     "output_type": "display_data"
    }
   ],
   "source": [
    "plt.plot(q, r_abeles, label='Abelès')\n",
    "plt.plot(q, r_fourier, label='Fourier')\n",
    "plt.xlabel('q (Å$^{-1}$)')\n",
    "plt.ylabel('R(q)')\n",
    "plt.yscale('log')\n",
    "plt.legend()\n",
    "plt.show()"
   ]
  },
  {
   "cell_type": "markdown",
   "id": "c2b47234-fe4b-499d-a42f-393ef6592fa8",
   "metadata": {},
   "source": [
    "The deviation at low $q$-values is much clearer now, when comparing with the Abelès approach, which does not rely on the Born approximation. \n",
    "Instead, this approach makes use of the refraction of the neutron waves at a series of interfaces, based on the scattering length density of the materials. "
   ]
  }
 ],
 "metadata": {
  "kernelspec": {
   "display_name": "Python 3 (ipykernel)",
   "language": "python",
   "name": "python3"
  },
  "language_info": {
   "codemirror_mode": {
    "name": "ipython",
    "version": 3
   },
   "file_extension": ".py",
   "mimetype": "text/x-python",
   "name": "python",
   "nbconvert_exporter": "python",
   "pygments_lexer": "ipython3",
   "version": "3.8.12"
  }
 },
 "nbformat": 4,
 "nbformat_minor": 5
}
