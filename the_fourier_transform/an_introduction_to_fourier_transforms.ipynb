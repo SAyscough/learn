{
 "cells": [
  {
   "cell_type": "markdown",
   "id": "7f65b664-d076-4aac-8144-bb7a34878f6b",
   "metadata": {},
   "source": [
    "# An introduction to Fourier transforms\n",
    "\n",
    "## What is a Fourier transform?\n",
    "\n",
    "The [Fourier transform](https://en.wikipedia.org/wiki/Fourier_transform) is fundamental to the scattering of all radiation, including **neutrons**. \n",
    "The scattering interaction between radiation and some sample essentially performs a Fourier transform on the radiation, leading to the scattering pattern that we measure. \n",
    "\n",
    "Before we look in more detail at Fourier transforms and scattering, watch the video below from [3Blue1Brown](https://www.3blue1brown.com) which gives a great overview of the Fourier transform. \n",
    "```{note}\n",
    "This video focuses on the decomposition of something in the time domain, but for elastic scattering we are interested in the analogous decomposition in the space domain (hence we measure $q$ in units of Å<sup>-1</sup>).\n",
    "```\n",
    "\n",
    "<center>\n",
    "    <iframe width=\"560\" height=\"315\" src=\"https://www.youtube.com/embed/spUNpyF58BY\" title=\"YouTube video player\" frameborder=\"0\" allow=\"accelerometer; autoplay; clipboard-write; encrypted-media; gyroscope; picture-in-picture\" allowfullscreen></iframe>\n",
    "</center>\n",
    "\n",
    "We can now go on to consider the impact of Fourier transforms in neutron reflectmetry. "
   ]
  }
 ],
 "metadata": {
  "kernelspec": {
   "display_name": "Python 3 (ipykernel)",
   "language": "python",
   "name": "python3"
  },
  "language_info": {
   "codemirror_mode": {
    "name": "ipython",
    "version": 3
   },
   "file_extension": ".py",
   "mimetype": "text/x-python",
   "name": "python",
   "nbconvert_exporter": "python",
   "pygments_lexer": "ipython3",
   "version": "3.8.12"
  }
 },
 "nbformat": 4,
 "nbformat_minor": 5
}
