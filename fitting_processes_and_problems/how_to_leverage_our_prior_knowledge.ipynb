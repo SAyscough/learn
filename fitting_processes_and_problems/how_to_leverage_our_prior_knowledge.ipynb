{
 "cells": [
  {
   "cell_type": "markdown",
   "id": "0a1e387b-50b8-4415-a7b3-5ac9a2030c20",
   "metadata": {},
   "source": [
    "# How to leverage our prior knowledge?\n",
    "\n",
    "In the introduction to model-dependent analysis, it was suggested that constructing a model and therefore biasing the analysis was acceptable, if the model is founded in logic. \n",
    "We can take this once step further but designing out model-dependent analysis such that we impose prior expectations about the values of parameters we are looking to probe. \n",
    "We achieve this using Bayes theorem {cite}`bayes_essay_1763`, \n",
    "\n",
    "$$\n",
    "p(y|\\theta) = \\frac{\\mathcal{L}(\\theta|y) p(\\theta)}{p(y)} \\propto \\mathcal{L}(\\theta|y) p(\\theta),\n",
    "$$\n",
    "\n",
    "where $p(y|\\theta)$ is the posterior, $\\mathcal{L}(\\theta|y)$ is the likleihood we have already seen, $p(\\theta)$ is our prior belief, and $p(y)$ is the probability associated with the measured data, which is constant for all $\\theta$. \n",
    "It is Bayes theorem that enables us to integrate our prior knowledge, as a probability, into our analysis. \n",
    "If we can describe our prior understanding about our parameters $\\theta$ as probabilities, we can look to maximise the posterior instead of the likelihood. \n",
    "\n",
    "## A uniform prior\n",
    "\n",
    "Lets consider a simple example, where we impose a uniform prior on some of parameters, we have infact already looked at such an example. \n",
    "When, in looking at the differential evolution algorithm we imposed maximum and minimum bounds for our parameters, we were infact introducing a prior. \n",
    "In this case, the prior stated that if $\\theta$ was within those bounds the probability was $1$, but if it were outside, the probability was $0$. \n",
    "Therefore, the posterior was $0$ and this could not be the maximum. "
   ]
  },
  {
   "cell_type": "code",
   "execution_count": null,
   "id": "4238a341-2203-4af2-96bf-71ab8b75e2ef",
   "metadata": {},
   "outputs": [],
   "source": []
  }
 ],
 "metadata": {
  "kernelspec": {
   "display_name": "Python 3 (ipykernel)",
   "language": "python",
   "name": "python3"
  },
  "language_info": {
   "codemirror_mode": {
    "name": "ipython",
    "version": 3
   },
   "file_extension": ".py",
   "mimetype": "text/x-python",
   "name": "python",
   "nbconvert_exporter": "python",
   "pygments_lexer": "ipython3",
   "version": "3.8.12"
  }
 },
 "nbformat": 4,
 "nbformat_minor": 5
}
