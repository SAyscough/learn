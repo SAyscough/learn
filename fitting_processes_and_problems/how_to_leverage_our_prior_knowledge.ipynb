{
 "cells": [
  {
   "cell_type": "markdown",
   "id": "0a1e387b-50b8-4415-a7b3-5ac9a2030c20",
   "metadata": {},
   "source": [
    "# How to leverage our prior knowledge?"
   ]
  },
  {
   "cell_type": "code",
   "execution_count": null,
   "id": "4238a341-2203-4af2-96bf-71ab8b75e2ef",
   "metadata": {},
   "outputs": [],
   "source": []
  }
 ],
 "metadata": {
  "kernelspec": {
   "display_name": "Python 3 (ipykernel)",
   "language": "python",
   "name": "python3"
  },
  "language_info": {
   "codemirror_mode": {
    "name": "ipython",
    "version": 3
   },
   "file_extension": ".py",
   "mimetype": "text/x-python",
   "name": "python",
   "nbconvert_exporter": "python",
   "pygments_lexer": "ipython3",
   "version": "3.8.12"
  }
 },
 "nbformat": 4,
 "nbformat_minor": 5
}
