{
 "cells": [
  {
   "cell_type": "markdown",
   "id": "a9468cf6-456c-48a0-ae9a-a89e95ac7628",
   "metadata": {},
   "source": [
    "# How do we maximise the likelihood?"
   ]
  },
  {
   "cell_type": "code",
   "execution_count": null,
   "id": "b8ef05ab-cd19-4392-99e6-b5f9eaa74342",
   "metadata": {},
   "outputs": [],
   "source": []
  }
 ],
 "metadata": {
  "kernelspec": {
   "display_name": "Python 3 (ipykernel)",
   "language": "python",
   "name": "python3"
  },
  "language_info": {
   "codemirror_mode": {
    "name": "ipython",
    "version": 3
   },
   "file_extension": ".py",
   "mimetype": "text/x-python",
   "name": "python",
   "nbconvert_exporter": "python",
   "pygments_lexer": "ipython3",
   "version": "3.8.12"
  }
 },
 "nbformat": 4,
 "nbformat_minor": 5
}
