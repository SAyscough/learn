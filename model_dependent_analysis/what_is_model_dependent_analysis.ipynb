{
 "cells": [
  {
   "cell_type": "markdown",
   "id": "b3473dd9-4973-4da9-a32f-588a52afb930",
   "metadata": {},
   "source": [
    "# What is model-dependent analysis?\n",
    "\n",
    "```{figure} ../figures/flow.png\n",
    "---\n",
    "height: 200px\n",
    "align: center\n",
    "name: flow-diagram\n",
    "---\n",
    "The logical flow of model-dependent analysis, showing the improvement of the model based on the agreement with the data.\n",
    "```"
   ]
  },
  {
   "cell_type": "code",
   "execution_count": null,
   "id": "50c72539-20b0-4319-a274-18ad0c6a14d1",
   "metadata": {},
   "outputs": [],
   "source": []
  }
 ],
 "metadata": {
  "kernelspec": {
   "display_name": "Python 3 (ipykernel)",
   "language": "python",
   "name": "python3"
  },
  "language_info": {
   "codemirror_mode": {
    "name": "ipython",
    "version": 3
   },
   "file_extension": ".py",
   "mimetype": "text/x-python",
   "name": "python",
   "nbconvert_exporter": "python",
   "pygments_lexer": "ipython3",
   "version": "3.8.12"
  }
 },
 "nbformat": 4,
 "nbformat_minor": 5
}
