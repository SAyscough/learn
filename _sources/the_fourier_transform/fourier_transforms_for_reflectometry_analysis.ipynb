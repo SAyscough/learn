{
 "cells": [
  {
   "cell_type": "markdown",
   "id": "292dfa26-d8c7-4786-b011-86474ddcf364",
   "metadata": {},
   "source": [
    "# Fourier Transforms for Reflectometry Analysis\n",
    "\n",
    "## Specular Reflectometry\n",
    "\n",
    "In specular neutron reflectometry, we understand that $q_x = 0$ and $q_y = 0$, which is to say that the neutrons are scattered **only** in the surface normal (perpendicular to the plane of the surface), denoted $z$. \n",
    "A result of this, is that by applying the [Born approximation](), the measured reflectometry can be found from the Fourier transform of the **first derivative** of the scattering length density profile with respect to $z$ {cite}`sivia_elementary_2011`.\n",
    "\n",
    "```{figure} ../figures/fourier.png\n",
    "---\n",
    ":width: 200px\n",
    ":align: center\n",
    "---\n",
    "The relationship between the scattering length density and the reflectometry profiles, interacting by a Fourier transform.\n",
    "```\n",
    "\n",
    "This means that the reflectometry profile, $R(q)$, can be found under the Born approximation as follows, \n",
    "\n",
    "$$\n",
    "R(q) = \\approx \\frac{16\\pi^2}{q^4} \\bigg| \\int^{\\infty}_{-\\infty} \\frac{\\mathrm{d}\\beta}{\\mathrm{d}z} \\mathrm{exp}(\\mathbf{i}zq) \\;\\mathrm{d}z \\bigg| ^2,\n",
    "$$\n",
    "where, $\\beta(z)$ is the scattering length density profile as a function of $z$. \n",
    "\n",
    "# The example of a single interface\n",
    "\n",
    "In order to show the Fourier transform in action, we will first consider the simple example of the interface bewteen air and a flat piece of silicon. \n",
    "This example has been borrowed from the **fantastic** bok by Dr Devinder Sivia, \"Elementary Scattering Theory: For X-ray and Neutron Users\" {cite}`sivia_elementary_2011`. "
   ]
  },
  {
   "cell_type": "code",
   "execution_count": null,
   "id": "ca84f14d-31b6-4ff6-9c13-1c83159c227d",
   "metadata": {},
   "outputs": [],
   "source": []
  }
 ],
 "metadata": {
  "kernelspec": {
   "display_name": "Python 3 (ipykernel)",
   "language": "python",
   "name": "python3"
  },
  "language_info": {
   "codemirror_mode": {
    "name": "ipython",
    "version": 3
   },
   "file_extension": ".py",
   "mimetype": "text/x-python",
   "name": "python",
   "nbconvert_exporter": "python",
   "pygments_lexer": "ipython3",
   "version": "3.8.12"
  }
 },
 "nbformat": 4,
 "nbformat_minor": 5
}
