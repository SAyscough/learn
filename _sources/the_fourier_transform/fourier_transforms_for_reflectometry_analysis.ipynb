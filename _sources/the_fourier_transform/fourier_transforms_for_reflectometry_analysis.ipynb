{
 "cells": [
  {
   "cell_type": "markdown",
   "id": "292dfa26-d8c7-4786-b011-86474ddcf364",
   "metadata": {},
   "source": [
    "# Fourier Transforms for Reflectometry Analysis\n",
    "\n",
    "## Specular Reflectometry\n",
    "\n",
    "In specular neutron reflectometry, we understand that $q_x = 0$ and $q_y = 0$, which is to say that the neutrons are scattered **only** in the surface normal (perpendicular to the plane of the surface), denoted $z$. \n",
    "A result of this, is that by applying the [Born approximation](), the measured reflectometry can be found from the Fourier transform of the **first derivative** of the scattering length density profile with respect to $z$ {cite}`sivia_elementary_2011`.\n",
    "\n",
    "```{figure} ../figures/fourier.png\n",
    "---\n",
    ":width: 200px\n",
    ":align: center\n",
    "---\n",
    "The relationship between the scattering length density and the reflectometry profiles, interacting by a Fourier transform.\n",
    "```\n",
    "\n",
    "This means that the reflectometry profile, $R(q)$, can be found under the Born approximation as follows, \n",
    "\n",
    "$$\n",
    "R(q) = \\approx \\frac{16\\pi^2}{q^4} \\bigg| \\int^{\\infty}_{-\\infty} \\frac{\\mathrm{d}\\beta}{\\mathrm{d}z} \\mathrm{exp}(\\mathbf{i}zq) \\;\\mathrm{d}z \\bigg| ^2,\n",
    "$$\n",
    "where, $\\beta(z)$ is the scattering length density profile as a function of $z$. \n",
    "\n",
    "# The example of a single interface\n",
    "\n",
    "```{margin}\n",
    "This example has been borrowed from the **fantastic** book by Dr Devinder Sivia, \"Elementary Scattering Theory: For X-ray and Neutron Users\" {cite}`sivia_elementary_2011`. \n",
    "```\n",
    "In order to show the Fourier transform in action, we will first consider the simple example of the interface bewteen air and a flat piece of silicon. \n",
    "Let's first visualise the scattering length density profile of this interface.\n"
   ]
  },
  {
   "cell_type": "code",
   "execution_count": 25,
   "id": "ca84f14d-31b6-4ff6-9c13-1c83159c227d",
   "metadata": {},
   "outputs": [
    {
     "data": {
      "image/png": "[encoded data removed]",
      "text/plain": [
       "<Figure size 432x288 with 1 Axes>"
      ]
     },
     "metadata": {
      "needs_background": "light"
     },
     "output_type": "display_data"
    }
   ],
   "source": [
    "import numpy as np\n",
    "import matplotlib.pyplot as plt\n",
    "\n",
    "z = np.linspace(-20, 20, 1000)\n",
    "rho = np.zeros_like(z)\n",
    "rho[np.where(z > 0)] = 2.871e-6\n",
    "plt.plot(z, rho)\n",
    "plt.xlabel('$z$ (Å)')\n",
    "plt.ylabel(r'$\\beta(z)$ (Å$^{-2}$)')\n",
    "plt.show()"
   ]
  },
  {
   "cell_type": "markdown",
   "id": "728d6557-a15c-4fbe-b4a3-facec5287463",
   "metadata": {},
   "source": [
    "The functional description of this interface is a [Heaviside function](https://en.wikipedia.org/wiki/Heaviside_step_function). \n",
    "The first derivative of this is a scaled-[delta function](https://en.wikipedia.org/wiki/Dirac_delta_function), where the scaling is the change observed in the Heaviside function. "
   ]
  },
  {
   "cell_type": "code",
   "execution_count": 26,
   "id": "7168f94b-7912-4a55-a4b0-fb38c59da1c8",
   "metadata": {},
   "outputs": [
    {
     "data": {
      "image/png": "[encoded data removed]",
      "text/plain": [
       "<Figure size 432x288 with 1 Axes>"
      ]
     },
     "metadata": {
      "needs_background": "light"
     },
     "output_type": "display_data"
    }
   ],
   "source": [
    "plt.plot(z[:-1], np.diff(rho))\n",
    "plt.xlabel('$z$ (Å)')\n",
    "plt.ylabel(r'$\\mathrm{d}\\beta(z)/\\mathrm{d}z$ (Å$^{-3}$)')\n",
    "plt.show()"
   ]
  },
  {
   "cell_type": "markdown",
   "id": "4666442c-acbc-45d2-987c-f8cd22b156c5",
   "metadata": {},
   "source": [
    "The scaled-delta function can be written as, \n",
    "\n",
    "$$\n",
    "\\mathrm{SLD'}(z) = \\beta_{\\mathrm{Si}} \\delta(z),\n",
    "$$\n",
    "where, $\\beta_{\\mathrm{Si}}$ is the scattering length density of Silicon ($2.871\\times 10^{-6}$ Å<sup>-2</sup>) "
   ]
  },
  {
   "cell_type": "code",
   "execution_count": null,
   "id": "de89d96b-0525-45b4-9391-cd4863016f90",
   "metadata": {},
   "outputs": [],
   "source": []
  }
 ],
 "metadata": {
  "kernelspec": {
   "display_name": "Python 3 (ipykernel)",
   "language": "python",
   "name": "python3"
  },
  "language_info": {
   "codemirror_mode": {
    "name": "ipython",
    "version": 3
   },
   "file_extension": ".py",
   "mimetype": "text/x-python",
   "name": "python",
   "nbconvert_exporter": "python",
   "pygments_lexer": "ipython3",
   "version": "3.8.12"
  }
 },
 "nbformat": 4,
 "nbformat_minor": 5
}
