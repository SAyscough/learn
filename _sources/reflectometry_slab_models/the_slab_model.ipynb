{
 "cells": [
  {
   "cell_type": "markdown",
   "id": "3df752c5-dade-4ee0-a834-b75a51af559f",
   "metadata": {
    "tags": []
   },
   "source": [
    "# The \"slab model\"\n",
    "\n",
    "Possibly the most common approach to generating **model reflectometry** data for comparison with, and refinement against, experimental data is the **slab model**. \n",
    "This is called the slab model as we describe the system as a series of slabs, with particular **thickness** and **scattering length density**.\n",
    "In this section, we will describe a typically slab model construction before going on to discuss how the reflectometry is calculated in later sections. "
   ]
  },
  {
   "cell_type": "code",
   "execution_count": null,
   "id": "55bff0d8-6d1b-494d-9049-874bbcd96b32",
   "metadata": {},
   "outputs": [],
   "source": []
  }
 ],
 "metadata": {
  "kernelspec": {
   "display_name": "Python 3 (ipykernel)",
   "language": "python",
   "name": "python3"
  },
  "language_info": {
   "codemirror_mode": {
    "name": "ipython",
    "version": 3
   },
   "file_extension": ".py",
   "mimetype": "text/x-python",
   "name": "python",
   "nbconvert_exporter": "python",
   "pygments_lexer": "ipython3",
   "version": "3.8.12"
  }
 },
 "nbformat": 4,
 "nbformat_minor": 5
}
