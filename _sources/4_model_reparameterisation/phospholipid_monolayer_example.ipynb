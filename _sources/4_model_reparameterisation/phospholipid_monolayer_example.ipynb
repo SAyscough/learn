{
 "cells": [
  {
   "cell_type": "markdown",
   "id": "0cc796e6-02a2-4ee7-85e2-0e93f9421dd7",
   "metadata": {},
   "source": [
    "# Phospholipid monolayer example\n",
    "\n",
    "A more complex example of model reparameterisation is that of a phospholipid monolayer, where the reparameterisation of our model allows **additional constraints** to be included that would be very difficult to apply in a traditional slab model approach. \n",
    "The amphiphilic nature of a phospholipid molecule, which consists of a water-soluble head group and insoluble, hydrocarbon tail group, means that these molecules will **self-assemble** at the air-water interface. \n",
    "\n",
    "For a typical phospholipid, such as [DPPC](https://en.wikipedia.org/wiki/Dipalmitoylphosphatidylcholine), there are two tail strands **attached** to each head and these tails typically sit with some **chain tilt angle**, $\\theta$, which depends on the pressure acting on the tail groups in the $xy$-plane {cite}`campbell_structure_2018`. \n",
    "This pressure affects the density of the phospholipids at the interface, also known as the **area per molecule**, $\\mathrm{APM}$, with higher pressures causing a higher density. \n",
    "The slab model description of this system is shown in {numref}`monolayer`.\n",
    "\n",
    "```{figure} ../figures/monolayer.png\n",
    "---\n",
    "height: 300px\n",
    "align: center\n",
    "name: monolayer\n",
    "---\n",
    "A pictorial example of the phospholipid monolayer system, showing the chain tilt angle, $\\theta$. \n",
    "```\n",
    "\n",
    "## Chain tilt angle\n",
    "\n",
    "A common reparameterisation for the modelling of a phospholipid monolayer is to make the assumption that **the hydrocarbon tail will be fully extended**.\n",
    "Wwe can use the Tanford length {cite}`tanford_hydrophobic_1980` to find the length of this fully extended tail, $t_t$, \n",
    "\n",
    "```{math}\n",
    ":label: tanford\n",
    "t_t = 1.5 + 1.265n_c [\\mathrm{Å}], \n",
    "```\n",
    "\n",
    "````{margin}\n",
    "```{note}\n",
    "The thickness is found from $d_t = t_t\\sin\\theta$. \n",
    "```\n",
    "````\n",
    "where $n_c$ is the number of carbon atoms in the chain. \n",
    "This allows simple trigonometry to be used to calculate the thickness of the tail layer. \n",
    "This approach has the benefit of a **limiting** the maximum thickness to when $\\theta=90^\\circ$. \n",
    "Below, we plot $d_h$ as a function of $\\theta$ for a DPPC molecule tail group."
   ]
  },
  {
   "cell_type": "code",
   "execution_count": null,
   "id": "a4ec371c-9e4e-4d7a-bdb9-5f97b4861636",
   "metadata": {},
   "outputs": [],
   "source": [
    "import numpy as np\n",
    "import matplotlib.pyplot as plt\n",
    "\n",
    "t_t = 1.5 + 1.265 * 15\n",
    "angle = np.linspace(0, 90, 1000)\n",
    "plt.plot(angle, t_t * np.sin(np.deg2rad(angle)))\n",
    "plt.xlabel(r'$\\theta$/$^\\circ$')\n",
    "plt.ylabel('$d_t$/Å')\n",
    "plt.show()"
   ]
  },
  {
   "cell_type": "markdown",
   "id": "d472638b-8adb-4fcd-aa0d-07cca90cc9aa",
   "metadata": {},
   "source": [
    "## Area per molecule\n",
    "\n",
    "In addition to the constraint introduced by considering a fully extended hydrocarbon tail, it is also possible to add the physical constraint that we must have one head group for every two tails groups in our systems. \n",
    "This is achieved by having a single area per molecule, $\\mathrm{APM}$, value for the system and using this to define the scattering length density, $\\beta$ of each of the layers. \n",
    "The scattering length density for one of the layers, $i$, can be defined as follows, in terms of the $\\mathrm{APM}$,\n",
    "\n",
    "```{math}\n",
    ":label: apm\n",
    "\\beta_i = \\frac{\\sum_{i=0}^{N}b_i}{d_i \\mathrm{APM}} (1 - \\phi_i) + \\beta_{\\mathrm{s}}\\phi_i,\n",
    "```\n",
    "\n",
    "where, $d_i$ is the layer thickness, $\\phi_i$ is the fractional solvation of the layer, by the solvent $\\mathrm{s}$, with scattering length density, $\\beta_{\\mathrm{s}}$. \n",
    "\n",
    "The use of $\\mathrm{APM}$ reduces the number of parameters in the model, given that now both $\\beta_{\\mathrm{heads}}$ and $\\beta_{\\mathrm{tails}}$ are constrained by other parameters in the model and **only** $\\mathrm{APM}$ has been added. \n",
    "It should be noted that the solvation of a layer is a common approach for monolayer systems, as the hydrophilic head group layer will be very likely to have some composition of the solvent intercalated. \n",
    "For the tail group layer, $\\phi_i$ is typically assumed to be $0$, as it is unlikely that solvent would intercalate into this hydrophobic region {cite}`mccluskey_bayesian_2019`. \n",
    "\n",
    "This approach is extremely important in the model-dependent analysis of reflectometry data as it:\n",
    "- reduces the number of parameters that must be optimised; and\n",
    "- adds physically relevant constraints to the model. \n",
    "\n",
    "As mentioned previously, the specifics of model reparameterisation **depend heavily** on the system under study. \n",
    "One of the best ways to learn about how best to parameterise your model is to speak to the instrument staff and consult the recent literature in your field. "
   ]
  }
 ],
 "metadata": {
  "kernelspec": {
   "display_name": "Python 3 (ipykernel)",
   "language": "python",
   "name": "python3"
  },
  "language_info": {
   "codemirror_mode": {
    "name": "ipython",
    "version": 3
   },
   "file_extension": ".py",
   "mimetype": "text/x-python",
   "name": "python",
   "nbconvert_exporter": "python",
   "pygments_lexer": "ipython3",
   "version": "3.9.13"
  }
 },
 "nbformat": 4,
 "nbformat_minor": 5
}
