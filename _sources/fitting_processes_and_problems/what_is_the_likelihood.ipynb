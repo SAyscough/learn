{
 "cells": [
  {
   "cell_type": "markdown",
   "id": "4050b3a7-e615-4418-ab31-0c4c90bd70e7",
   "metadata": {},
   "source": [
    "# What is the likelihood?"
   ]
  },
  {
   "cell_type": "code",
   "execution_count": null,
   "id": "0c495afb-15ba-4227-9917-7838db391660",
   "metadata": {},
   "outputs": [],
   "source": []
  }
 ],
 "metadata": {
  "kernelspec": {
   "display_name": "Python 3 (ipykernel)",
   "language": "python",
   "name": "python3"
  },
  "language_info": {
   "codemirror_mode": {
    "name": "ipython",
    "version": 3
   },
   "file_extension": ".py",
   "mimetype": "text/x-python",
   "name": "python",
   "nbconvert_exporter": "python",
   "pygments_lexer": "ipython3",
   "version": "3.8.12"
  }
 },
 "nbformat": 4,
 "nbformat_minor": 5
}
