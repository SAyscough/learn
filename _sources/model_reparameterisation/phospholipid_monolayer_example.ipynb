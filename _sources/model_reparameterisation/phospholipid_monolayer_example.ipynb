{
 "cells": [
  {
   "cell_type": "markdown",
   "id": "0cc796e6-02a2-4ee7-85e2-0e93f9421dd7",
   "metadata": {},
   "source": [
    "# Phospholipid monolayer example"
   ]
  },
  {
   "cell_type": "code",
   "execution_count": null,
   "id": "a4ec371c-9e4e-4d7a-bdb9-5f97b4861636",
   "metadata": {},
   "outputs": [],
   "source": []
  }
 ],
 "metadata": {
  "kernelspec": {
   "display_name": "Python 3 (ipykernel)",
   "language": "python",
   "name": "python3"
  },
  "language_info": {
   "codemirror_mode": {
    "name": "ipython",
    "version": 3
   },
   "file_extension": ".py",
   "mimetype": "text/x-python",
   "name": "python",
   "nbconvert_exporter": "python",
   "pygments_lexer": "ipython3",
   "version": "3.8.12"
  }
 },
 "nbformat": 4,
 "nbformat_minor": 5
}
