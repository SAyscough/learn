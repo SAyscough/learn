{
 "cells": [
  {
   "cell_type": "markdown",
   "id": "6dbf7029-26ee-4823-8f23-2233aa961140",
   "metadata": {},
   "source": [
    "# A case for model reparameterisation\n",
    "\n",
    "The slab models introduced previously are a useful tool to simulate our reflectometry data. \n",
    "However, their parameterisation, in particular the concept of **scattering length density** is rather unintuative compared to how we typically think about our experimental systems. \n",
    "Therefore, it may be useful to **reparameterise** our model to translate more commonly used parameters, such as mass density or area-per-molecule, into these scattering length densities. \n",
    "\n",
    "```{figure} ../figures/lipid.jpg\n",
    "---\n",
    "height: 250px\n",
    "align: center\n",
    "name: lipid\n",
    "---\n",
    "An example of a model reparameterisation from the work of John *et al.* {cite}`john_large_2021`.\n",
    "```\n",
    "\n",
    "In addition to making our model more understandable and allowing description of our system in a language that we are more familiar with, this approach can make physical constraints on our system more straightforward to apply. \n",
    "For example, we will be able to actively constrain the density of a given material based on literature values or introduce chemical stoichiometry to our model based on the synthesis process. \n",
    "In this section, we will work through a pair of examples of reparameterising or slab model in terms of chemical and physical parameters. "
   ]
  },
  {
   "cell_type": "code",
   "execution_count": null,
   "id": "18de3808-90bd-4fe0-aa60-c5508f156d02",
   "metadata": {},
   "outputs": [],
   "source": []
  }
 ],
 "metadata": {
  "kernelspec": {
   "display_name": "Python 3 (ipykernel)",
   "language": "python",
   "name": "python3"
  },
  "language_info": {
   "codemirror_mode": {
    "name": "ipython",
    "version": 3
   },
   "file_extension": ".py",
   "mimetype": "text/x-python",
   "name": "python",
   "nbconvert_exporter": "python",
   "pygments_lexer": "ipython3",
   "version": "3.8.12"
  }
 },
 "nbformat": 4,
 "nbformat_minor": 5
}
