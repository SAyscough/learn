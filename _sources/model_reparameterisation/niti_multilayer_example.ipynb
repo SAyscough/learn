{
 "cells": [
  {
   "cell_type": "markdown",
   "id": "51bd01e1-a35b-4370-be91-9cf4bce19005",
   "metadata": {},
   "source": [
    "# NiTi multilayer example"
   ]
  },
  {
   "cell_type": "code",
   "execution_count": null,
   "id": "eb17ed02-7f6e-4f9e-a9b7-c8206aa4fc7d",
   "metadata": {},
   "outputs": [],
   "source": []
  }
 ],
 "metadata": {
  "kernelspec": {
   "display_name": "Python 3 (ipykernel)",
   "language": "python",
   "name": "python3"
  },
  "language_info": {
   "codemirror_mode": {
    "name": "ipython",
    "version": 3
   },
   "file_extension": ".py",
   "mimetype": "text/x-python",
   "name": "python",
   "nbconvert_exporter": "python",
   "pygments_lexer": "ipython3",
   "version": "3.8.12"
  }
 },
 "nbformat": 4,
 "nbformat_minor": 5
}
