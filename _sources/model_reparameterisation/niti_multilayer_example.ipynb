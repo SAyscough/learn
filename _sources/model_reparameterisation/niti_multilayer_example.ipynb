{
 "cells": [
  {
   "cell_type": "markdown",
   "id": "51bd01e1-a35b-4370-be91-9cf4bce19005",
   "metadata": {},
   "source": [
    "# NiTi multilayer example\n",
    "\n",
    "For our first example, we will consider a simple hard matter system, where there is a **repeating multilayer** of nickel and titanium that has been deposited on the surface of a piece of silicon. \n",
    "The process by which these systems are prepared typically involves the disposition of a layer of titanium, followed by a layer of nickel, followed by titanium, this process is repeated until the desired number of layers is reached. \n",
    "Below we show, graphically, a model that we may use for the simulation of reflectometry data from such a system. \n",
    "\n",
    "```{figure} ../figures/multilayer.png\n",
    "---\n",
    "height: 250px\n",
    "align: center\n",
    "name: multilayer\n",
    "---\n",
    "A graphical example of the NiTi multilayer system consisting of three repeats. \n",
    "```"
   ]
  },
  {
   "cell_type": "code",
   "execution_count": null,
   "id": "eb17ed02-7f6e-4f9e-a9b7-c8206aa4fc7d",
   "metadata": {},
   "outputs": [],
   "source": []
  }
 ],
 "metadata": {
  "kernelspec": {
   "display_name": "Python 3 (ipykernel)",
   "language": "python",
   "name": "python3"
  },
  "language_info": {
   "codemirror_mode": {
    "name": "ipython",
    "version": 3
   },
   "file_extension": ".py",
   "mimetype": "text/x-python",
   "name": "python",
   "nbconvert_exporter": "python",
   "pygments_lexer": "ipython3",
   "version": "3.8.12"
  }
 },
 "nbformat": 4,
 "nbformat_minor": 5
}
